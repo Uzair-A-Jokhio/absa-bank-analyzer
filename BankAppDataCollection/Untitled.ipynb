{
 "cells": [
  {
   "cell_type": "code",
   "execution_count": 1,
   "id": "0f4190e9-ce00-4556-af9d-1455c4f8df7c",
   "metadata": {},
   "outputs": [],
   "source": [
    "import pandas as pd"
   ]
  },
  {
   "cell_type": "code",
   "execution_count": 4,
   "id": "631e96d2-7b39-4fce-8145-14b737ecea5e",
   "metadata": {},
   "outputs": [],
   "source": [
    "alhabib = pd.read_csv(\"reviews_output/alhabib.csv\")\n",
    "hbl = pd.read_csv(\"reviews_output/hbl_mobile.csv\")\n",
    "meezan = pd.read_csv(\"reviews_output/meezan_mobile_app.csv\")\n",
    "sunwai = pd.read_csv(\"reviews_output/sunwai.csv\")\n",
    "ubl_digital = pd.read_csv(\"reviews_output/ubl_digital.csv\")"
   ]
  },
  {
   "cell_type": "code",
   "execution_count": 16,
   "id": "2549fe58-2c47-43da-805d-a0c0abbbc6c8",
   "metadata": {},
   "outputs": [
    {
     "data": {
      "text/plain": [
       "reviewId                  0\n",
       "userName                  0\n",
       "userImage                 0\n",
       "content                   0\n",
       "score                     0\n",
       "thumbsUpCount             0\n",
       "reviewCreatedVersion    293\n",
       "at                        0\n",
       "replyContent            406\n",
       "repliedAt               406\n",
       "appVersion              293\n",
       "app                       0\n",
       "dtype: int64"
      ]
     },
     "execution_count": 16,
     "metadata": {},
     "output_type": "execute_result"
    }
   ],
   "source": [
    "app_names = [\"Al Habib\", \"HBL\", \"Meezan Bank\", \"Sunwai\", \"UBL Digital\"]\n",
    "data = [alhabib, hbl, meezan, sunwai, ubl_digital]\n",
    "\n",
    "for i in range(len(app_names)):\n",
    "    data[i][\"app\"] = app_names[i]\n",
    "    combined_df = pd.concat(data, ignore_index=True)\n",
    "combined_df.isna().sum()"
   ]
  },
  {
   "cell_type": "code",
   "execution_count": 19,
   "id": "8fc2d621-0e91-4dad-840d-ec99026f3e5d",
   "metadata": {},
   "outputs": [],
   "source": [
    "final_data = combined_df[[\"app\",\"content\", \"score\", \"at\"]]\n",
    "final_data.to_csv(\"pak_app_bank_reviews.csv\")"
   ]
  },
  {
   "cell_type": "code",
   "execution_count": null,
   "id": "cef85b7c-605f-4eaa-ae58-703de9fd71f2",
   "metadata": {},
   "outputs": [],
   "source": [
    "\n"
   ]
  }
 ],
 "metadata": {
  "kernelspec": {
   "display_name": "Python (ai-env)",
   "language": "python",
   "name": "ai-env"
  },
  "language_info": {
   "codemirror_mode": {
    "name": "ipython",
    "version": 3
   },
   "file_extension": ".py",
   "mimetype": "text/x-python",
   "name": "python",
   "nbconvert_exporter": "python",
   "pygments_lexer": "ipython3",
   "version": "3.10.16"
  }
 },
 "nbformat": 4,
 "nbformat_minor": 5
}
